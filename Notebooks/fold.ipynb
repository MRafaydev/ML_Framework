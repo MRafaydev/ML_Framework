{
 "cells": [
  {
   "cell_type": "code",
   "execution_count": 1,
   "metadata": {},
   "outputs": [],
   "source": [
    "import pandas as pd\n",
    "from sklearn import model_selection"
   ]
  },
  {
   "cell_type": "code",
   "execution_count": 15,
   "metadata": {},
   "outputs": [
    {
     "name": "stdout",
     "output_type": "stream",
     "text": [
      "[    0     1     2 ... 59997 59998 59999]\n",
      "[ 60000  60001  60002 ... 119997 119998 119999]\n",
      "[120000 120001 120002 ... 179997 179998 179999]\n",
      "[180000 180001 180002 ... 239997 239998 239999]\n",
      "[240000 240001 240002 ... 299997 299998 299999]\n"
     ]
    }
   ],
   "source": [
    "df = pd.read_csv('../input/train.csv')\n",
    "df['Kfold'] = -1\n",
    "df = df.sample(frac=1).reset_index(drop=True)\n",
    "kf = model_selection.KFold(n_splits=5)\n",
    "for fold, (trn_, val_) in enumerate(kf.split(X=df)):\n",
    "    df.loc[val_, 'kfold'] = fold"
   ]
  },
  {
   "cell_type": "code",
   "execution_count": null,
   "metadata": {},
   "outputs": [],
   "source": []
  }
 ],
 "metadata": {
  "kernelspec": {
   "display_name": "Python 3.9.12 ('base')",
   "language": "python",
   "name": "python3"
  },
  "language_info": {
   "codemirror_mode": {
    "name": "ipython",
    "version": 3
   },
   "file_extension": ".py",
   "mimetype": "text/x-python",
   "name": "python",
   "nbconvert_exporter": "python",
   "pygments_lexer": "ipython3",
   "version": "3.9.12"
  },
  "orig_nbformat": 4,
  "vscode": {
   "interpreter": {
    "hash": "57bc2b6ce032b5f0e93daa91901b7ea38a856826ef43aa9e95b6d3999f5310df"
   }
  }
 },
 "nbformat": 4,
 "nbformat_minor": 2
}
